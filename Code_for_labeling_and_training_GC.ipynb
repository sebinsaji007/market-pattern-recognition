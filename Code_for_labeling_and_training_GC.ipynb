{
  "cells": [
    {
      "cell_type": "markdown",
      "metadata": {
        "id": "view-in-github",
        "colab_type": "text"
      },
      "source": [
        "<a href=\"https://colab.research.google.com/github/sebinsaji007/market-pattern-recognition/blob/main/Code_for_labeling_and_training_GC.ipynb\" target=\"_parent\"><img src=\"https://colab.research.google.com/assets/colab-badge.svg\" alt=\"Open In Colab\"/></a>"
      ]
    },
    {
      "cell_type": "markdown",
      "metadata": {
        "id": "U-KVxZQR6vkH"
      },
      "source": [
        "# Import libraries and data\n",
        "\n",
        "First, it is connected to the repository where the data is stored, on the one hand the raw market data, from which the patterns are labeled. On the other hand, also to store the labeled patterns that will later be used to train a neural network.\n",
        "\n",
        "Next, the necessary libraries for data processing and visualization are imported."
      ]
    },
    {
      "cell_type": "code",
      "execution_count": 1,
      "metadata": {
        "id": "KTzWB0PF61mj",
        "colab": {
          "base_uri": "https://localhost:8080/"
        },
        "outputId": "890a8ae9-35cc-4f34-a0c0-f7064322ebe8"
      },
      "outputs": [
        {
          "output_type": "stream",
          "name": "stdout",
          "text": [
            "Mounted at /content/drive\n"
          ]
        }
      ],
      "source": [
        "# It connects to the repository to obtain the necessary data to be used throughout the execution of this google colab document.\n",
        "from google.colab import drive\n",
        "drive.mount('/content/drive')"
      ]
    },
    {
      "cell_type": "code",
      "source": [
        "cd /content/drive/MyDrive/python/deep learning/graphic_patterns_GAF_CNN"
      ],
      "metadata": {
        "id": "K4hric0atSTz",
        "colab": {
          "base_uri": "https://localhost:8080/"
        },
        "outputId": "6f0db8dd-69b2-4b19-ab5f-ae9ca5c04a5c"
      },
      "execution_count": 2,
      "outputs": [
        {
          "output_type": "stream",
          "name": "stdout",
          "text": [
            "/content/drive/MyDrive/python/deep learning/graphic_patterns_GAF_CNN\n"
          ]
        }
      ]
    },
    {
      "cell_type": "code",
      "execution_count": 14,
      "metadata": {
        "id": "bXL0y2Y9tY99"
      },
      "outputs": [],
      "source": [
        "#Utils\n",
        "import pandas as pd\n",
        "import numpy as np\n",
        "import matplotlib.pyplot as plt\n",
        "import random\n",
        "from scipy import stats\n",
        "from sklearn.linear_model import LinearRegression\n",
        "import os\n",
        "from datetime import datetime"
      ]
    },
    {
      "cell_type": "code",
      "execution_count": 4,
      "metadata": {
        "id": "Tva4oB4cypd1",
        "colab": {
          "base_uri": "https://localhost:8080/"
        },
        "outputId": "77be542f-30ae-4ef5-b327-6364654d45e8"
      },
      "outputs": [
        {
          "output_type": "stream",
          "name": "stdout",
          "text": [
            "Collecting mpl_finance\n",
            "  Downloading mpl_finance-0.10.1-py3-none-any.whl (8.4 kB)\n",
            "Requirement already satisfied: matplotlib in /usr/local/lib/python3.10/dist-packages (from mpl_finance) (3.7.1)\n",
            "Requirement already satisfied: contourpy>=1.0.1 in /usr/local/lib/python3.10/dist-packages (from matplotlib->mpl_finance) (1.1.0)\n",
            "Requirement already satisfied: cycler>=0.10 in /usr/local/lib/python3.10/dist-packages (from matplotlib->mpl_finance) (0.11.0)\n",
            "Requirement already satisfied: fonttools>=4.22.0 in /usr/local/lib/python3.10/dist-packages (from matplotlib->mpl_finance) (4.42.1)\n",
            "Requirement already satisfied: kiwisolver>=1.0.1 in /usr/local/lib/python3.10/dist-packages (from matplotlib->mpl_finance) (1.4.5)\n",
            "Requirement already satisfied: numpy>=1.20 in /usr/local/lib/python3.10/dist-packages (from matplotlib->mpl_finance) (1.23.5)\n",
            "Requirement already satisfied: packaging>=20.0 in /usr/local/lib/python3.10/dist-packages (from matplotlib->mpl_finance) (23.1)\n",
            "Requirement already satisfied: pillow>=6.2.0 in /usr/local/lib/python3.10/dist-packages (from matplotlib->mpl_finance) (9.4.0)\n",
            "Requirement already satisfied: pyparsing>=2.3.1 in /usr/local/lib/python3.10/dist-packages (from matplotlib->mpl_finance) (3.1.1)\n",
            "Requirement already satisfied: python-dateutil>=2.7 in /usr/local/lib/python3.10/dist-packages (from matplotlib->mpl_finance) (2.8.2)\n",
            "Requirement already satisfied: six>=1.5 in /usr/local/lib/python3.10/dist-packages (from python-dateutil>=2.7->matplotlib->mpl_finance) (1.16.0)\n",
            "Installing collected packages: mpl_finance\n",
            "Successfully installed mpl_finance-0.10.1\n"
          ]
        }
      ],
      "source": [
        "#Library for visualization of data on candlestick charts\n",
        "!pip install mpl_finance\n",
        "import mpl_finance as mpf"
      ]
    },
    {
      "cell_type": "markdown",
      "source": [
        "\n",
        "\n",
        "---\n",
        "\n"
      ],
      "metadata": {
        "id": "9rno7dv95YJS"
      }
    },
    {
      "cell_type": "markdown",
      "metadata": {
        "id": "YwWz7W0b7Am1"
      },
      "source": [
        "# Extra functions\n",
        "\n",
        "Necessary functions are defined for the process of labeling the patterns and transforming them. On the one hand, the function \"pattern_show_image\" is used to observe the pattern identified from trend rules and to confirm visually by the user if it is correct or not.\n",
        "\n",
        "Then we present the function \"image_gaf\", which function is used to visualize the image obtained from a time series, using the Gramian Angular Field method.\n"
      ]
    },
    {
      "cell_type": "code",
      "execution_count": 5,
      "metadata": {
        "id": "NddFjMuALrPZ"
      },
      "outputs": [],
      "source": [
        "# GAF function, converts a time series to a Gramian matrix.\n",
        "def serie_tiempo_gaf(serie,valueMax,valueMin):\n",
        "  if valueMax == valueMin:\n",
        "      mGaf = np.zeros((len(serie), len(serie)))\n",
        "  else:\n",
        "      serieNorm = np.array((serie-valueMin) / (valueMax-valueMin))\n",
        "      serieNormArc = np.arccos(serieNorm)\n",
        "      mGaf = np.zeros((len(serieNorm), len(serieNorm)))\n",
        "      for f in range(len(serieNorm)):\n",
        "          for c in range(len(serieNorm)):\n",
        "              mGaf[f, c] = np.cos(serieNormArc[f] + serieNormArc[c])\n",
        "  return mGaf\n",
        "\n",
        "\n",
        "# Function that receives a set of patterns with a predefined structure and that are converted through the GAF method.\n",
        "def create_gaf(serie_pattern):\n",
        "  data = serie_pattern.copy()\n",
        "  gaf = np.zeros((data.shape[0], data.shape[1], data.shape[1], data.shape[2]))\n",
        "  for i in range(data.shape[0]):\n",
        "      for c in range(data.shape[2]):\n",
        "          oneCat = data[i, :, c]\n",
        "          maxV = np.amax(oneCat)\n",
        "          minV = np.amin(oneCat)\n",
        "          result = serie_tiempo_gaf(oneCat, maxV, minV)\n",
        "          gaf[i, :, :, c] = result\n",
        "  return gaf\n",
        "\n",
        "\n",
        "# Function that returns a structured data series with the candlestick data for each pattern.\n",
        "# Given from the data of all the patterns recorded.\n",
        "def create_serie(df_pattern):\n",
        "  total = int(df_pattern.shape[0] / window )\n",
        "  serie = np.zeros((total, window, 4))\n",
        "  for N in range(total):\n",
        "    df = df_pattern.loc[(df_pattern.index >= (N*window)) & (df_pattern.index < (N*window + window))]\n",
        "    serie[N, :, 0] = df['open']\n",
        "    serie[N, :, 1] = df['max']\n",
        "    serie[N, :, 2] = df['min']\n",
        "    serie[N, :, 3] = df['close']\n",
        "  return serie\n",
        "\n",
        "\n"
      ]
    },
    {
      "cell_type": "markdown",
      "metadata": {
        "id": "P_jeaAkiLypq"
      },
      "source": [
        "# Obtain Japanese candlestick information and convert them to images using GAF\n",
        "\n",
        "In this cell are defined three functions necessary to transform the time series of the Japanese candlesticks to images. For this, the time series structure of each pattern is processed to a multidimensional array with the characteristics of the Japanese candlesticks (open, min, max, close).\n",
        "Then they are processed by applying the GAF method and adding them to a structured array for further handling.\n"
      ]
    },
    {
      "cell_type": "code",
      "source": [
        "!pip install --upgrade tensorflow\n",
        "!pip install --upgrade tensorflow-gpu\n",
        "\n"
      ],
      "metadata": {
        "id": "3du9SFzru_QJ",
        "colab": {
          "base_uri": "https://localhost:8080/"
        },
        "outputId": "902993cc-2f72-41f5-f927-1efe79748a04"
      },
      "execution_count": 7,
      "outputs": [
        {
          "output_type": "stream",
          "name": "stdout",
          "text": [
            "Requirement already satisfied: tensorflow in /usr/local/lib/python3.10/dist-packages (2.13.0)\n",
            "Collecting tensorflow\n",
            "  Downloading tensorflow-2.14.0-cp310-cp310-manylinux_2_17_x86_64.manylinux2014_x86_64.whl (489.8 MB)\n",
            "\u001b[2K     \u001b[91m━━━━━━━━━━━━━━━━━━━━━━━━━━━━━━━━━━━━\u001b[0m\u001b[91m╸\u001b[0m \u001b[32m489.8/489.8 MB\u001b[0m \u001b[31m139.5 MB/s\u001b[0m eta \u001b[36m0:00:01\u001b[0m\n",
            "\u001b[?25h\u001b[31mERROR: Operation cancelled by user\u001b[0m\u001b[31m\n",
            "\u001b[0mCollecting tensorflow-gpu\n",
            "  Downloading tensorflow-gpu-2.12.0.tar.gz (2.6 kB)\n",
            "  \u001b[1;31merror\u001b[0m: \u001b[1msubprocess-exited-with-error\u001b[0m\n",
            "  \n",
            "  \u001b[31m×\u001b[0m \u001b[32mpython setup.py egg_info\u001b[0m did not run successfully.\n",
            "  \u001b[31m│\u001b[0m exit code: \u001b[1;36m1\u001b[0m\n",
            "  \u001b[31m╰─>\u001b[0m See above for output.\n",
            "  \n",
            "  \u001b[1;35mnote\u001b[0m: This error originates from a subprocess, and is likely not a problem with pip.\n",
            "  Preparing metadata (setup.py) ... \u001b[?25l\u001b[?25herror\n",
            "\u001b[1;31merror\u001b[0m: \u001b[1mmetadata-generation-failed\u001b[0m\n",
            "\n",
            "\u001b[31m×\u001b[0m Encountered error while generating package metadata.\n",
            "\u001b[31m╰─>\u001b[0m See above for output.\n",
            "\n",
            "\u001b[1;35mnote\u001b[0m: This is an issue with the package mentioned above, not pip.\n",
            "\u001b[1;36mhint\u001b[0m: See above for details.\n"
          ]
        }
      ]
    },
    {
      "cell_type": "markdown",
      "source": [
        "\n",
        "\n",
        "---\n",
        "\n"
      ],
      "metadata": {
        "id": "ChoymKVr5gDa"
      }
    },
    {
      "cell_type": "markdown",
      "metadata": {
        "id": "Db8fjLt-KDkz"
      },
      "source": [
        "# Red CNN\n",
        "\n",
        "The class of a convolutional neural network model is defined, in order to create an instance of it on which to work, establishing its characteristics and then training the model with the labeled data to identify the categorized patterns."
      ]
    },
    {
      "cell_type": "code",
      "execution_count": 8,
      "metadata": {
        "id": "mKVzFL33TUXs"
      },
      "outputs": [],
      "source": [
        "from sklearn.model_selection import train_test_split\n",
        "from tensorflow.keras.utils import to_categorical\n",
        "\n",
        "import tensorflow.keras.utils as np_utils\n",
        "\n",
        "from keras.models import Sequential\n",
        "from keras.layers import Dense, Dropout, Flatten, Conv2D, MaxPooling2D\n",
        "\n",
        "# Class to instantiate a CNN model\n",
        "class modelCNN(object):\n",
        "\n",
        "    # Sets the instance variables\n",
        "    def __init__(self, data_x, data_y):\n",
        "        self.model = None\n",
        "        self.input_shape = None\n",
        "        self.label_shape = None\n",
        "        self.train_history = None\n",
        "        self.data_x, self.data_y = data_x, data_y\n",
        "        self.X_train, self.y_train, self.X_test, self.y_test = None, None, None, None\n",
        "        self. y_categoricalTrain, self.y_categoricalTest = None, None\n",
        "\n",
        "    # Divides the data into a test set and a test set\n",
        "    def process(self):\n",
        "        self.X_train, self.X_test, self.y_train, self.y_test = train_test_split (self.data_x, self.data_y, test_size= 0.3, random_state = 42)\n",
        "        self. y_categoricalTrain, self.y_categoricalTest = np_utils.to_categorical(self.y_train), np_utils.to_categorical(self.y_test)\n",
        "        self.input_shape = self.X_train[0].shape\n",
        "        self.label_shape = self. y_categoricalTrain.shape[1]\n",
        "\n",
        "    # Set the layers and their characteristics that make up the CNN model\n",
        "    def build(self):\n",
        "        self.model = Sequential()\n",
        "        self.model.add(Conv2D(filters=32, kernel_size=(2, 2), padding='same', input_shape = self.input_shape, activation='relu'))\n",
        "        self.model.add(MaxPooling2D(pool_size=(2, 2)))\n",
        "        self.model.add(Conv2D(filters=32, kernel_size=(2, 2), padding='same', activation='relu'))\n",
        "        self.model.add(MaxPooling2D(pool_size=(2, 2)))\n",
        "        self.model.add(Dropout(0.25))\n",
        "        self.model.add(Flatten())\n",
        "        self.model.add(Dense(128, activation='relu'))\n",
        "        self.model.add(Dropout(0.5))\n",
        "        self.model.add(Dense(self.label_shape, activation='softmax'))\n",
        "        print(self.model.summary())\n",
        "\n",
        "    # Training of the model created with the processed data\n",
        "    def train(self, split):\n",
        "        self.model.compile(loss='categorical_crossentropy', optimizer='adam', metrics=['accuracy'])\n",
        "\n",
        "        X_train, X_val, y_train_categorical, y_val_categorical = train_test_split(self.X_train, self.y_categoricalTrain, test_size=split)\n",
        "\n",
        "        self.train_history = self.model.fit(x = X_train, y = y_train_categorical, validation_data=(X_val, y_val_categorical), shuffle=True, epochs = 50, batch_size = 150, verbose = 2)\n",
        "\n",
        "    # Prediction for a specific value with the trained model\n",
        "    def predictTest(self,dataX):\n",
        "        prediction = self.model.predict(dataX)\n",
        "        print(prediction)\n",
        "        #print(pd.crosstab(self.y_test, prediction, rownames=['label'], colnames=['predict']))\n",
        "\n",
        "    # Save the created/trained model\n",
        "    def save(self, filename):\n",
        "        self.model.save(filename)\n",
        "\n",
        "    # Displays training history\n",
        "    def show_train_history(self, train_history, train, validation):\n",
        "        plt.figure()\n",
        "        plt.plot(train_history.history[train])\n",
        "        plt.plot(train_history.history[validation])\n",
        "        plt.title('Train History')\n",
        "        plt.ylabel(train)\n",
        "        plt.xlabel('Epoch')\n",
        "        plt.legend(['train', 'validation'], loc='upper left')\n",
        "        plt.show()\n",
        "\n",
        "    # Prints out the accuracy values after the delivery it has had\n",
        "    def show(self):\n",
        "        self.show_train_history(self.train_history, 'loss', 'val_loss')\n",
        "        self.show_train_history(self.train_history, 'accuracy', 'val_accuracy')\n",
        "        score = self.model.evaluate(self.X_test, self.y_categoricalTest)\n",
        "        print('Score of the Testing Data: {}'.format(score))\n",
        "\n",
        "\n",
        "\n",
        "\n",
        "\n"
      ]
    },
    {
      "cell_type": "markdown",
      "source": [
        "# Processing of the data using GAF and training of a CNN pattern identification model\n",
        "\n",
        "For the creation of the model capable of identifying the labeled patterns, we proceed in this cell to occupy the previous class and the GAF functions, together with the generated data. In this way, we start loading the data of the categorized patterns from the repository to be processed with the functions of the previous cells. In this way, the data are transformed to images by the GAF method, which pass through a function that prepares them with the necessary format to enter the CNN.\n",
        "After processing the data, an instance of the CNN model is created by passing the categorized values of the patterns to be identified, they are processed in the instance and the layers that the model will have to be trained are built. Finally, the network is trained and the model is downloaded for later use. It is also worth mentioning that during the training and at the end of it, the information of how much the network learns is shown."
      ],
      "metadata": {
        "id": "ftJ2Uf6ry5SU"
      }
    },
    {
      "cell_type": "code",
      "execution_count": 9,
      "metadata": {
        "id": "eqVr3dQVKIUn",
        "colab": {
          "base_uri": "https://localhost:8080/",
          "height": 1000
        },
        "outputId": "8766d053-fe95-4fea-faf2-8df1d16e9ae2"
      },
      "outputs": [
        {
          "output_type": "stream",
          "name": "stdout",
          "text": [
            "Data shape: (255, 28, 28, 4)\n",
            "Target shape: (255,)\n",
            "Model: \"sequential\"\n",
            "_________________________________________________________________\n",
            " Layer (type)                Output Shape              Param #   \n",
            "=================================================================\n",
            " conv2d (Conv2D)             (None, 28, 28, 32)        544       \n",
            "                                                                 \n",
            " max_pooling2d (MaxPooling2  (None, 14, 14, 32)        0         \n",
            " D)                                                              \n",
            "                                                                 \n",
            " conv2d_1 (Conv2D)           (None, 14, 14, 32)        4128      \n",
            "                                                                 \n",
            " max_pooling2d_1 (MaxPoolin  (None, 7, 7, 32)          0         \n",
            " g2D)                                                            \n",
            "                                                                 \n",
            " dropout (Dropout)           (None, 7, 7, 32)          0         \n",
            "                                                                 \n",
            " flatten (Flatten)           (None, 1568)              0         \n",
            "                                                                 \n",
            " dense (Dense)               (None, 128)               200832    \n",
            "                                                                 \n",
            " dropout_1 (Dropout)         (None, 128)               0         \n",
            "                                                                 \n",
            " dense_1 (Dense)             (None, 3)                 387       \n",
            "                                                                 \n",
            "=================================================================\n",
            "Total params: 205891 (804.26 KB)\n",
            "Trainable params: 205891 (804.26 KB)\n",
            "Non-trainable params: 0 (0.00 Byte)\n",
            "_________________________________________________________________\n",
            "None\n",
            "Epoch 1/50\n",
            "1/1 - 3s - loss: 1.2158 - accuracy: 0.2746 - val_loss: 1.0264 - val_accuracy: 0.3889 - 3s/epoch - 3s/step\n",
            "Epoch 2/50\n",
            "1/1 - 0s - loss: 1.1335 - accuracy: 0.4507 - val_loss: 0.8564 - val_accuracy: 0.6944 - 323ms/epoch - 323ms/step\n",
            "Epoch 3/50\n",
            "1/1 - 0s - loss: 0.9196 - accuracy: 0.5775 - val_loss: 0.7470 - val_accuracy: 0.9167 - 249ms/epoch - 249ms/step\n",
            "Epoch 4/50\n",
            "1/1 - 0s - loss: 0.7534 - accuracy: 0.7535 - val_loss: 0.6726 - val_accuracy: 0.7778 - 249ms/epoch - 249ms/step\n",
            "Epoch 5/50\n",
            "1/1 - 0s - loss: 0.6757 - accuracy: 0.7535 - val_loss: 0.5833 - val_accuracy: 0.8611 - 215ms/epoch - 215ms/step\n",
            "Epoch 6/50\n",
            "1/1 - 0s - loss: 0.5828 - accuracy: 0.8239 - val_loss: 0.4983 - val_accuracy: 0.8889 - 286ms/epoch - 286ms/step\n",
            "Epoch 7/50\n",
            "1/1 - 0s - loss: 0.5188 - accuracy: 0.8592 - val_loss: 0.4267 - val_accuracy: 0.8889 - 241ms/epoch - 241ms/step\n",
            "Epoch 8/50\n",
            "1/1 - 0s - loss: 0.4280 - accuracy: 0.8873 - val_loss: 0.3710 - val_accuracy: 0.9167 - 287ms/epoch - 287ms/step\n",
            "Epoch 9/50\n",
            "1/1 - 0s - loss: 0.3720 - accuracy: 0.8803 - val_loss: 0.3209 - val_accuracy: 0.9167 - 341ms/epoch - 341ms/step\n",
            "Epoch 10/50\n",
            "1/1 - 0s - loss: 0.3331 - accuracy: 0.8803 - val_loss: 0.2773 - val_accuracy: 0.8889 - 284ms/epoch - 284ms/step\n",
            "Epoch 11/50\n",
            "1/1 - 0s - loss: 0.2721 - accuracy: 0.9155 - val_loss: 0.2446 - val_accuracy: 0.9167 - 255ms/epoch - 255ms/step\n",
            "Epoch 12/50\n",
            "1/1 - 0s - loss: 0.2464 - accuracy: 0.9366 - val_loss: 0.2312 - val_accuracy: 0.9167 - 254ms/epoch - 254ms/step\n",
            "Epoch 13/50\n",
            "1/1 - 0s - loss: 0.2094 - accuracy: 0.9507 - val_loss: 0.2303 - val_accuracy: 0.9167 - 233ms/epoch - 233ms/step\n",
            "Epoch 14/50\n",
            "1/1 - 0s - loss: 0.2290 - accuracy: 0.9225 - val_loss: 0.2202 - val_accuracy: 0.9167 - 329ms/epoch - 329ms/step\n",
            "Epoch 15/50\n",
            "1/1 - 0s - loss: 0.1856 - accuracy: 0.9437 - val_loss: 0.1990 - val_accuracy: 0.9167 - 200ms/epoch - 200ms/step\n",
            "Epoch 16/50\n",
            "1/1 - 0s - loss: 0.1624 - accuracy: 0.9507 - val_loss: 0.1739 - val_accuracy: 0.9167 - 343ms/epoch - 343ms/step\n",
            "Epoch 17/50\n",
            "1/1 - 0s - loss: 0.1457 - accuracy: 0.9507 - val_loss: 0.1563 - val_accuracy: 0.9167 - 254ms/epoch - 254ms/step\n",
            "Epoch 18/50\n",
            "1/1 - 0s - loss: 0.1333 - accuracy: 0.9718 - val_loss: 0.1437 - val_accuracy: 0.9167 - 216ms/epoch - 216ms/step\n",
            "Epoch 19/50\n",
            "1/1 - 0s - loss: 0.1330 - accuracy: 0.9577 - val_loss: 0.1319 - val_accuracy: 0.9167 - 244ms/epoch - 244ms/step\n",
            "Epoch 20/50\n",
            "1/1 - 0s - loss: 0.1197 - accuracy: 0.9437 - val_loss: 0.1206 - val_accuracy: 0.9444 - 320ms/epoch - 320ms/step\n",
            "Epoch 21/50\n",
            "1/1 - 0s - loss: 0.1098 - accuracy: 0.9718 - val_loss: 0.1121 - val_accuracy: 0.9444 - 238ms/epoch - 238ms/step\n",
            "Epoch 22/50\n",
            "1/1 - 0s - loss: 0.1003 - accuracy: 0.9648 - val_loss: 0.1098 - val_accuracy: 0.9167 - 183ms/epoch - 183ms/step\n",
            "Epoch 23/50\n",
            "1/1 - 0s - loss: 0.1022 - accuracy: 0.9648 - val_loss: 0.1125 - val_accuracy: 0.9167 - 302ms/epoch - 302ms/step\n",
            "Epoch 24/50\n",
            "1/1 - 0s - loss: 0.0927 - accuracy: 0.9648 - val_loss: 0.1213 - val_accuracy: 0.9167 - 226ms/epoch - 226ms/step\n",
            "Epoch 25/50\n",
            "1/1 - 0s - loss: 0.0846 - accuracy: 0.9718 - val_loss: 0.1171 - val_accuracy: 0.9167 - 323ms/epoch - 323ms/step\n",
            "Epoch 26/50\n",
            "1/1 - 0s - loss: 0.0695 - accuracy: 0.9859 - val_loss: 0.1084 - val_accuracy: 0.9167 - 379ms/epoch - 379ms/step\n",
            "Epoch 27/50\n",
            "1/1 - 0s - loss: 0.0763 - accuracy: 0.9789 - val_loss: 0.0969 - val_accuracy: 0.9444 - 452ms/epoch - 452ms/step\n",
            "Epoch 28/50\n",
            "1/1 - 1s - loss: 0.0572 - accuracy: 0.9789 - val_loss: 0.0930 - val_accuracy: 0.9444 - 648ms/epoch - 648ms/step\n",
            "Epoch 29/50\n",
            "1/1 - 1s - loss: 0.0684 - accuracy: 0.9789 - val_loss: 0.0926 - val_accuracy: 0.9444 - 553ms/epoch - 553ms/step\n",
            "Epoch 30/50\n",
            "1/1 - 0s - loss: 0.0780 - accuracy: 0.9718 - val_loss: 0.0906 - val_accuracy: 0.9444 - 359ms/epoch - 359ms/step\n",
            "Epoch 31/50\n",
            "1/1 - 0s - loss: 0.0943 - accuracy: 0.9789 - val_loss: 0.0886 - val_accuracy: 0.9444 - 391ms/epoch - 391ms/step\n",
            "Epoch 32/50\n",
            "1/1 - 0s - loss: 0.0474 - accuracy: 0.9859 - val_loss: 0.0859 - val_accuracy: 0.9444 - 377ms/epoch - 377ms/step\n",
            "Epoch 33/50\n",
            "1/1 - 0s - loss: 0.0480 - accuracy: 0.9859 - val_loss: 0.0854 - val_accuracy: 0.9444 - 461ms/epoch - 461ms/step\n",
            "Epoch 34/50\n",
            "1/1 - 0s - loss: 0.0537 - accuracy: 0.9859 - val_loss: 0.0875 - val_accuracy: 0.9444 - 491ms/epoch - 491ms/step\n",
            "Epoch 35/50\n",
            "1/1 - 0s - loss: 0.0439 - accuracy: 0.9930 - val_loss: 0.0903 - val_accuracy: 0.9444 - 450ms/epoch - 450ms/step\n",
            "Epoch 36/50\n",
            "1/1 - 0s - loss: 0.0667 - accuracy: 0.9718 - val_loss: 0.0862 - val_accuracy: 0.9444 - 391ms/epoch - 391ms/step\n",
            "Epoch 37/50\n",
            "1/1 - 0s - loss: 0.0318 - accuracy: 0.9930 - val_loss: 0.0839 - val_accuracy: 0.9444 - 268ms/epoch - 268ms/step\n",
            "Epoch 38/50\n",
            "1/1 - 0s - loss: 0.0551 - accuracy: 0.9789 - val_loss: 0.0814 - val_accuracy: 0.9444 - 207ms/epoch - 207ms/step\n",
            "Epoch 39/50\n",
            "1/1 - 0s - loss: 0.0392 - accuracy: 0.9930 - val_loss: 0.0778 - val_accuracy: 0.9444 - 201ms/epoch - 201ms/step\n",
            "Epoch 40/50\n",
            "1/1 - 0s - loss: 0.0202 - accuracy: 1.0000 - val_loss: 0.0747 - val_accuracy: 0.9444 - 204ms/epoch - 204ms/step\n",
            "Epoch 41/50\n",
            "1/1 - 0s - loss: 0.0186 - accuracy: 1.0000 - val_loss: 0.0724 - val_accuracy: 0.9444 - 193ms/epoch - 193ms/step\n",
            "Epoch 42/50\n",
            "1/1 - 0s - loss: 0.0290 - accuracy: 1.0000 - val_loss: 0.0695 - val_accuracy: 0.9444 - 205ms/epoch - 205ms/step\n",
            "Epoch 43/50\n",
            "1/1 - 0s - loss: 0.0302 - accuracy: 0.9859 - val_loss: 0.0687 - val_accuracy: 0.9444 - 224ms/epoch - 224ms/step\n",
            "Epoch 44/50\n",
            "1/1 - 0s - loss: 0.0471 - accuracy: 0.9930 - val_loss: 0.0705 - val_accuracy: 0.9444 - 268ms/epoch - 268ms/step\n",
            "Epoch 45/50\n",
            "1/1 - 0s - loss: 0.0243 - accuracy: 0.9930 - val_loss: 0.0736 - val_accuracy: 0.9444 - 317ms/epoch - 317ms/step\n",
            "Epoch 46/50\n",
            "1/1 - 0s - loss: 0.0255 - accuracy: 0.9930 - val_loss: 0.0783 - val_accuracy: 0.9444 - 415ms/epoch - 415ms/step\n",
            "Epoch 47/50\n",
            "1/1 - 0s - loss: 0.0202 - accuracy: 1.0000 - val_loss: 0.0849 - val_accuracy: 0.9444 - 246ms/epoch - 246ms/step\n",
            "Epoch 48/50\n",
            "1/1 - 0s - loss: 0.0174 - accuracy: 1.0000 - val_loss: 0.0905 - val_accuracy: 0.9444 - 301ms/epoch - 301ms/step\n",
            "Epoch 49/50\n",
            "1/1 - 0s - loss: 0.0199 - accuracy: 0.9930 - val_loss: 0.0931 - val_accuracy: 0.9444 - 183ms/epoch - 183ms/step\n",
            "Epoch 50/50\n",
            "1/1 - 0s - loss: 0.0283 - accuracy: 0.9930 - val_loss: 0.0973 - val_accuracy: 0.9444 - 323ms/epoch - 323ms/step\n"
          ]
        },
        {
          "output_type": "display_data",
          "data": {
            "text/plain": [
              "<Figure size 640x480 with 1 Axes>"
            ],
            "image/png": "[encoded data removed]"
          },
          "metadata": {}
        },
        {
          "output_type": "display_data",
          "data": {
            "text/plain": [
              "<Figure size 640x480 with 1 Axes>"
            ],
            "image/png": "[encoded data removed]"
          },
          "metadata": {}
        },
        {
          "output_type": "stream",
          "name": "stdout",
          "text": [
            "3/3 [==============================] - 0s 12ms/step - loss: 0.0999 - accuracy: 0.9610\n",
            "Score of the Testing Data: [0.09988845884799957, 0.9610389471054077]\n"
          ]
        },
        {
          "output_type": "stream",
          "name": "stderr",
          "text": [
            "/usr/local/lib/python3.10/dist-packages/keras/src/engine/training.py:3000: UserWarning: You are saving your model as an HDF5 file via `model.save()`. This file format is considered legacy. We recommend using instead the native Keras format, e.g. `model.save('my_model.keras')`.\n",
            "  saving_api.save_model(\n"
          ]
        }
      ],
      "source": [
        "# Function that creates a CNN model and trains it with the labeled data, at the end it displays the training results.\n",
        "def cnn(dataDic):\n",
        "  x_data = dataDic['data']\n",
        "  y_target = dataDic['target']\n",
        "  model = modelCNN(x_data, y_target)\n",
        "  model.process()\n",
        "  model.build()\n",
        "  model.train(0.2)\n",
        "  model.show()\n",
        "\n",
        "  # Save model\n",
        "  name = 'model_pattern'\n",
        "  load_model = 'CNN_' + name + '.h5'\n",
        "  model.save(load_model)\n",
        "\n",
        "# Function that structures the data sets for use in the neural network.\n",
        "# For each set, it is labeled differently from another one\n",
        "def process_data(d1, d2, d3):\n",
        "    total = d1.shape[0] + d2.shape[0] + d3.shape[0]\n",
        "\n",
        "    xSerie = np.zeros((total, window, window, 4))\n",
        "\n",
        "    xSerie[0:d1.shape[0], :, :, :] = d1\n",
        "    xSerie[d1.shape[0]:d1.shape[0] + d2.shape[0], :, :, :] = d2\n",
        "    xSerie[d1.shape[0] + d2.shape[0]:, :, :, :] = d3\n",
        "\n",
        "    yData = [0] * d1.shape[0]\n",
        "    yData.extend([1] * d2.shape[0])\n",
        "    yData.extend([2] * d3.shape[0])\n",
        "\n",
        "    ySerie = np.array(yData)\n",
        "\n",
        "    assert xSerie.shape[0] == ySerie.shape[0], \"Data and label counts don't match!\"\n",
        "\n",
        "    return {'data': xSerie, 'target': ySerie}\n",
        "\n",
        "\n",
        "\n",
        "# Size of window in which it is predisposed to identify market patterns\n",
        "window = 28\n",
        "\n",
        "# Loads labeled pattern data\n",
        "# Each set of patterns is structured into a time series that can be processed, to be transformed by the GAF method.\n",
        "c_h_eurusd = create_gaf(create_serie(pd.read_csv('/content/drive/MyDrive/python/deep learning/graphic_patterns_GAF_CNN/Data/Tagged data/Patterns by market/S&H/patron_cabezaHombros_23_23_EURUSD.csv')))\n",
        "c_h_gbpusd = create_gaf(create_serie(pd.read_csv('/content/drive/MyDrive/python/deep learning/graphic_patterns_GAF_CNN/Data/Tagged data/Patterns by market/S&H/patron_cabezaHombros_26_26_GBPUSD.csv')))\n",
        "c_h_usdjpy = create_gaf(create_serie(pd.read_csv('/content/drive/MyDrive/python/deep learning/graphic_patterns_GAF_CNN/Data/Tagged data/Patterns by market/S&H/patron_cabezaHombros_31_31_USDJPY.csv')))\n",
        "c_h_eurchf = create_gaf(create_serie(pd.read_csv('/content/drive/MyDrive/python/deep learning/graphic_patterns_GAF_CNN/Data/Tagged data/Patterns by market/S&H/patron_cabezaHombros_8_8_USDCHF.csv')))\n",
        "tt_eurusd = create_gaf(create_serie(pd.read_csv('/content/drive/MyDrive/python/deep learning/graphic_patterns_GAF_CNN/Data/Tagged data/Patterns by market/dobleTop/patron_dobleT_21_21_GBPUSD.csv')))\n",
        "tt_gbpusd = create_gaf(create_serie(pd.read_csv('/content/drive/MyDrive/python/deep learning/graphic_patterns_GAF_CNN/Data/Tagged data/Patterns by market/dobleTop/patron_dobleT_21_21_USDCHF.csv')))\n",
        "tt_usdjpy = create_gaf(create_serie(pd.read_csv('/content/drive/MyDrive/python/deep learning/graphic_patterns_GAF_CNN/Data/Tagged data/Patterns by market/dobleTop/patron_dobleT_22_22_USDJPY.csv')))\n",
        "tt_eurchf = create_gaf(create_serie(pd.read_csv('/content/drive/MyDrive/python/deep learning/graphic_patterns_GAF_CNN/Data/Tagged data/Patterns by market/dobleTop/patron_dobleT_23_23_EURUSD.csv')))\n",
        "rd_eurusd = create_gaf(create_serie(pd.read_csv('/content/drive/MyDrive/python/deep learning/graphic_patterns_GAF_CNN/Data/Tagged data/patron_random_80_80_EURUSD.csv')))\n",
        "\n",
        "# Data from patterns that were tagged in parts are joined into a single set per tag\n",
        "pattern_c_h_all = np.concatenate((c_h_eurusd, c_h_gbpusd, c_h_usdjpy, c_h_eurchf))\n",
        "pattern_tt_all = np.concatenate((tt_eurusd, tt_gbpusd, tt_usdjpy, tt_eurchf))\n",
        "dataDic = process_data(pattern_c_h_all, pattern_tt_all, rd_eurusd)\n",
        "print(\"Data shape:\", dataDic['data'].shape)\n",
        "print(\"Target shape:\", dataDic['target'].shape)\n",
        "\n",
        "cnn(dataDic)\n",
        "\n",
        "\n",
        "\n"
      ]
    },
    {
      "cell_type": "markdown",
      "source": [
        "\n",
        "\n",
        "---\n",
        "\n"
      ],
      "metadata": {
        "id": "0fLkKcB15pKl"
      }
    },
    {
      "cell_type": "markdown",
      "source": [
        "\n",
        "\n",
        "---\n",
        "\n"
      ],
      "metadata": {
        "id": "YdCbYWQ65nQj"
      }
    },
    {
      "cell_type": "markdown",
      "metadata": {
        "id": "7h4Fp_0a8DUk"
      },
      "source": [
        "# Functions for labeling\n",
        "\n",
        "In this cell the parameters and functions used for the processing of the financial market time series over a period of ten years are configured. To process this data and obtain the patterns to be used to train the network, the first step was to establish the window for identifying the patterns, as well as the time span to be taken into account, set in eighteen, and the number of candlesticks to be processed.\n",
        "\n",
        "Then we defined the characteristics of the proportions of the trends that each pattern would have in order to define it according to its characteristics in the functions below. In the functions are defined both the functions to find according to the characteristics that define each pattern and to indicate the possible occurrence of one of them. Necessary functions are used for this, such as identifying the trend and defining it as a downtrend or an uptrend."
      ]
    },
    {
      "cell_type": "code",
      "execution_count": 10,
      "metadata": {
        "id": "wtDAZ-f-Ns3W"
      },
      "outputs": [],
      "source": [
        "#var\n",
        "window_range = 28\n",
        "\n",
        "end_first_stretch_dt = 5\n",
        "end_second_stretch_dt = 8\n",
        "end_third_stretch_dt = 11\n",
        "end_length_dt = 5\n",
        "length_valle_dt = 3\n",
        "\n",
        "end_first_stretch_sh = 7\n",
        "end_second_stretch_sh = 11\n",
        "end_third_stretch_sh = 15\n",
        "end_fourth_stretch_sh = 19\n",
        "end_fifth_stretch_sh = 23\n",
        "end_length_sh = 7\n",
        "length_valle_sh = 4\n",
        "\n",
        "# Set the values necessary to define the characteristics of the searched pattern in a specific window range\n",
        "def set_values_dt(window):\n",
        "  if window % 2 == 1 or window < 16:\n",
        "    return 1\n",
        "\n",
        "  global end_first_stretch_dt\n",
        "  global end_second_stretch_dt\n",
        "  global end_third_stretch_dt\n",
        "  global end_length_dt\n",
        "  global length_valle_dt\n",
        "  global window_range\n",
        "\n",
        "  reservation = 2\n",
        "  aux = int(((window/2)-reservation)/2)\n",
        "  auxr = int((window - aux * 4) /2)\n",
        "  end_first_stretch_dt = aux + auxr\n",
        "  end_second_stretch_dt = end_first_stretch_dt + aux\n",
        "  end_third_stretch_dt = end_second_stretch_dt + aux\n",
        "  end_length_dt = int(end_first_stretch_dt)\n",
        "  length_valle_dt = int(aux)\n",
        "  window_range = window\n",
        "  return 0\n",
        "\n",
        "\n",
        "# Set the values necessary to define the characteristics of the searched pattern in a specific window range\n",
        "def set_values_sh(window):\n",
        "  if window % 2 == 1 or window < 16:\n",
        "    return 1\n",
        "\n",
        "  global end_first_stretch_sh\n",
        "  global end_second_stretch_sh\n",
        "  global end_third_stretch_sh\n",
        "  global end_fourth_stretch_sh\n",
        "  global end_fifth_stretch_sh\n",
        "  global end_length_sh\n",
        "  global length_valle_sh\n",
        "  global window_range\n",
        "\n",
        "  reservation = 2\n",
        "  length_valle_sh = int((window-reservation)/6)\n",
        "  end_length_sh = int(  (window - length_valle_sh*6)/2   )\n",
        "\n",
        "  end_first_stretch_sh = end_length_sh + length_valle_sh\n",
        "  end_second_stretch_sh = end_first_stretch_sh + length_valle_sh\n",
        "  end_third_stretch_sh = end_second_stretch_sh + length_valle_sh\n",
        "  end_fourth_stretch_sh = end_third_stretch_sh + length_valle_sh\n",
        "  end_fifth_stretch_sh = end_fourth_stretch_sh + length_valle_sh\n",
        "  window_range = window\n",
        "  return 0\n",
        "\n",
        "# Determines whether the existence of a pattern is possible according to the definition of its formation, given from a series of data, according to the length of the window.\n",
        "def head_shoulders(series):\n",
        "        y = series.values.reshape(-1,1)\n",
        "        x = np.array(range(1, series.shape[0] + 1)).reshape(-1,1)\n",
        "        if max(y[:end_second_stretch_sh]) > min(y[end_first_stretch_sh:end_third_stretch_sh]) and max(y[:end_second_stretch_sh]) < max(y[end_second_stretch_sh:end_fourth_stretch_sh]) and max(y[end_fourth_stretch_sh:window_range]) > min(y[end_third_stretch_sh:end_fifth_stretch_sh]) and max(y[end_fourth_stretch_sh:window_range]) < max(y[end_second_stretch_sh:end_fourth_stretch_sh]) and uptrend(y[:end_first_stretch_sh], x[:end_first_stretch_sh]) and downtrend(y[end_first_stretch_sh:end_second_stretch_sh], x[:length_valle_sh]) and uptrend(y[end_second_stretch_sh:end_third_stretch_sh], x[:length_valle_sh]) and downtrend(y[end_third_stretch_sh:end_fourth_stretch_sh], x[:length_valle_sh]) and uptrend(y[end_fourth_stretch_sh:end_fifth_stretch_sh], x[:length_valle_sh]) and downtrend(y[end_fifth_stretch_sh:window_range], x[:end_first_stretch_sh]):\n",
        "          return True\n",
        "        else:\n",
        "          return False\n",
        "\n",
        "# Determines whether the existence of a pattern is possible according to the definition of its formation, given from a series of data, according to the length of the window.\n",
        "def double_top(series):\n",
        "        y = series.values.reshape(-1,1)\n",
        "        x = np.array(range(1, series.shape[0] + 1)).reshape(-1,1)\n",
        "        if uptrend(y[:end_first_stretch_dt], x[:end_length_dt])  and downtrend(y[end_first_stretch_dt:end_second_stretch_dt], x[:length_valle_dt]) and uptrend(y[end_second_stretch_dt:end_third_stretch_dt], x[:length_valle_dt]) and downtrend(y[end_third_stretch_dt:window_range], x[:end_length_dt]) and (min(y[:end_first_stretch_dt]) < min(y[end_first_stretch_dt:end_third_stretch_dt])) and (min(y[end_first_stretch_dt:end_third_stretch_dt]) > min(y[end_third_stretch_dt:window_range])) and (max(y[:end_second_stretch_dt]) > max(y[end_second_stretch_dt:window_range])):\n",
        "          return True\n",
        "        else:\n",
        "          return False\n",
        "\n",
        "# Extracts randoms movements from the market\n",
        "def randomPtt(series):\n",
        "  n = random.randint(0,100)\n",
        "  if n == 1:\n",
        "    return True\n",
        "  else:\n",
        "    return False\n",
        "\n",
        "# Determines the existence of a trend, according to a series of data\n",
        "def is_tide(y,x):\n",
        "  model = LinearRegression()\n",
        "  model.fit(x, y)\n",
        "  slope = model.coef_\n",
        "  if slope > 0.0001:\n",
        "    return True\n",
        "  else:\n",
        "    return False\n",
        "\n",
        "def downtrend(y,x):\n",
        "  newY = y[::-1]\n",
        "  return is_tide(newY,x)\n",
        "\n",
        "def uptrend(y,x):\n",
        "  return is_tide(y,x)"
      ]
    },
    {
      "cell_type": "markdown",
      "source": [
        "# Get and label data\n",
        "\n",
        "Once you have loaded the above cell functions you can proceed to execute this cell if you need to label the patterns of a particular market.\n",
        "\n",
        "First connect to the data source and create a variable in this data which is \"body\", as the difference between the maximum and minimum value of the jaonesian candle to determine its body, which will be used to determine the trends. Then we proceed to pass this data using the functions of the previous cell to identify the possible appearance of a pattern, but without confirmation. With the data obtained, we proceed to go through all these possible patterns and visualize them one by one. In this way we proceed to manually label each pattern to confirm its characteristics as correct, attaching them at the end to a file that is used in the training of the neural network."
      ],
      "metadata": {
        "id": "xQPIUej3S8o8"
      }
    },
    {
      "cell_type": "code",
      "execution_count": 42,
      "metadata": {
        "id": "Eff5mktvqi7v",
        "colab": {
          "base_uri": "https://localhost:8080/",
          "height": 406
        },
        "outputId": "b44c1a9f-8fd1-4794-995b-e0c448782da5"
      },
      "outputs": [
        {
          "output_type": "display_data",
          "data": {
            "text/plain": [
              "<Figure size 640x480 with 1 Axes>"
            ],
            "image/png": "[encoded data removed]"
          },
          "metadata": {}
        }
      ],
      "source": [
        "# function to view candlestick chart of labeled pattern\n",
        "\n",
        "def pattern_show_image(signal, target):\n",
        "    fontsize = 12\n",
        "    plt.rcParams['xtick.labelsize'] = fontsize\n",
        "    plt.rcParams['ytick.labelsize'] = fontsize\n",
        "\n",
        "    fig = plt.figure(figsize=(10, 10))\n",
        "    ax = plt.subplot2grid((1, 1), (0, 0))\n",
        "    num_rows = target.shape[0]\n",
        "\n",
        "    arr = np.c_[range(target.shape[0]), target[['open', 'max', 'min', 'close']].values]\n",
        "    mpf.candlestick_ohlc(ax, arr, width=0.5, alpha=1, colordown='#ff1717', colorup='#53c156')\n",
        "\n",
        "    # Remove axis labels and title\n",
        "    ax.set_xticklabels([])\n",
        "    ax.set_yticklabels([])\n",
        "    ax.set_title('')\n",
        "\n",
        "    # Adjust margins\n",
        "    plt.subplots_adjust(left=0, right=1, top=1, bottom=0)\n",
        "\n",
        "    # Create a folder to save the plots if it doesn't exist\n",
        "    folder_path = '/content/drive/MyDrive/python/deep learning/graphic_patterns_GAF_CNN/double_top'\n",
        "    os.makedirs(folder_path, exist_ok=True)\n",
        "\n",
        "    # Generate a filename based on the current datetime and the signal name\n",
        "    current_datetime = datetime.now().strftime('%Y-%m-%d_%H-%M-%S')\n",
        "    filename = f'{signal}_{current_datetime}.png'\n",
        "\n",
        "    # Save the figure to the specified folder with the generated filename\n",
        "    file_path = os.path.join(folder_path, filename)\n",
        "    fig.savefig(file_path)\n",
        "\n",
        "    plt.show()\n",
        "\n",
        "\n",
        "# method that prints one image on the screen using GAF\n",
        "def image_gaf(serie):\n",
        "    max = np.amax(serie)\n",
        "    min = np.amin(serie)\n",
        "    result = serie_tiempo_gaf(serie,max,min)\n",
        "    plt.imshow(result, cmap='hot', interpolation='nearest')\n",
        "    plt.axis('off')\n",
        "    plt.show()\n",
        "\n",
        "\n",
        "# test, see image of gaf - opening values of japanese candlesticks in a double top pattern\n",
        "serie = np.array(['1.44697','1.44678','1.4471','1.44761','1.44802','1.44803','1.4479','1.44752','1.44742','1.44721','1.4478','1.44741','1.44722','1.4471','1.44677']).astype(float)\n",
        "\n",
        "image_gaf(serie)\n"
      ]
    },
    {
      "cell_type": "code",
      "execution_count": null,
      "metadata": {
        "colab": {
          "base_uri": "https://localhost:8080/",
          "height": 1000
        },
        "id": "y_wTD_XEG8Tr",
        "outputId": "1a2643ed-0936-4374-920b-3b237f0b3062"
      },
      "outputs": [
        {
          "output_type": "stream",
          "name": "stdout",
          "text": [
            "0.0    303\n",
            "1.0      6\n",
            "Name: double_top, dtype: int64\n",
            "Continue...\n",
            "y\n",
            "Count: 1/6\n"
          ]
        },
        {
          "output_type": "display_data",
          "data": {
            "text/plain": [
              "<Figure size 1000x1000 with 1 Axes>"
            ],
            "image/png": "[encoded data removed]"
          },
          "metadata": {}
        },
        {
          "output_type": "stream",
          "name": "stdout",
          "text": [
            "Add, Y o N ? or save to create .csv\n",
            "y\n",
            "Counter: 1\n",
            "            open           max           min         close\n",
            "0   26309.048828  26274.212891  26282.712891  26282.712891\n",
            "1   26334.250000  26285.695312  26305.371094  26305.371094\n",
            "2   26455.556641  26329.406250  26455.554688  26455.554688\n",
            "3   26510.560547  26377.673828  26466.412109  26466.412109\n",
            "4   26736.787109  26465.251953  26584.966797  26584.966797\n",
            "5   26750.701172  26554.173828  26740.730469  26740.730469\n",
            "6   26750.179688  26605.703125  26692.416016  26692.416016\n",
            "7   26737.554688  26568.613281  26621.660156  26621.660156\n",
            "8   26667.693359  26580.912109  26662.480469  26662.480469\n",
            "9   26774.623047  26596.388672  26603.957031  26603.957031\n",
            "10  26681.974609  26580.441406  26679.933594  26679.933594\n",
            "11  26699.716797  26571.638672  26579.402344  26579.402344\n",
            "12  26623.837891  26507.119141  26523.003906  26523.003906\n",
            "13  26629.740234  26528.919922  26626.847656  26626.847656\n",
            "14  26634.742188  26516.171875  26538.595703  26538.595703\n",
            "15  26561.015625  26488.892578  26495.179688  26495.179688\n",
            "16  26520.875000  26468.347656  26508.123047  26508.123047\n",
            "17  26612.945312  26509.617188  26609.839844  26609.839844\n",
            "18  26616.761719  26589.794922  26615.839844  26615.839844\n",
            "19  26659.955078  26612.886719  26652.271484  26652.271484\n",
            "20  26653.775391  26584.832031  26593.230469  26593.230469\n",
            "21  26610.138672  26578.242188  26589.175781  26589.175781\n",
            "22  26595.457031  26560.554688  26571.343750  26571.343750\n",
            "23  26639.330078  26553.388672  26639.330078  26639.330078\n",
            "24  26663.275391  26592.015625  26625.501953  26625.501953\n",
            "25  26651.185547  26603.947266  26640.888672  26640.888672\n",
            "26  26642.832031  26445.763672  26455.292969  26455.292969\n",
            "27  26472.291016  26349.265625  26373.003906  26373.003906\n",
            "Count: 2/6\n"
          ]
        },
        {
          "output_type": "display_data",
          "data": {
            "text/plain": [
              "<Figure size 1000x1000 with 1 Axes>"
            ],
            "image/png": "[encoded data removed]"
          },
          "metadata": {}
        },
        {
          "output_type": "stream",
          "name": "stdout",
          "text": [
            "Add, Y o N ? or save to create .csv\n"
          ]
        }
      ],
      "source": [
        "# Open file of one of the markets to be analyzed\n",
        "df = pd.read_csv('btc-data.csv',\n",
        "                 header=0, names=[\"datetime\",\"open\",\"max\",\"min\",\"close\",\"volumen\"])\n",
        "\n",
        "# Name of the market\n",
        "currency = 'BTCUSD'\n",
        "\n",
        "# Add \"body\" field, being the difference between the closing and opening of the Japanese candlesticks.\n",
        "df['body'] = np.where(df['close'] >= df['open'],\n",
        "                               abs(df.close - df.open)/2 + df.open,\n",
        "                               abs(df.close - df.open)/2 + df.close)\n",
        "\n",
        "# Take the set of candles that appear in the imported dataset\n",
        "df_copy = df.iloc[0:3900000].copy()\n",
        "\n",
        "# Ensure the DataFrame's index is of type integer:\n",
        "df_copy.reset_index(drop=True, inplace=True)\n",
        "\n",
        "# Size of the window in which the pattern is observed\n",
        "window_size = 28\n",
        "set_values_dt(window_size)\n",
        "set_values_sh(window_size)\n",
        "\n",
        "# Name of pattern to be labeled\n",
        "patternTag = 'double_top'\n",
        "\n",
        "# Look for the possible occurrence of the previously defined pattern based on market movements\n",
        "df_copy[patternTag] = df_copy['body'].rolling(window_size).apply(double_top)\n",
        "\n",
        "# Print the number of possible patterns detected\n",
        "allPatternCount = df_copy[patternTag].value_counts()\n",
        "print(str(allPatternCount))\n",
        "print(\"Continue...\")\n",
        "resp = input()\n",
        "\n",
        "# Run through the detected patterns, one by one, to visually check if they add up to the labeled dataset\n",
        "new_df = df_copy.loc[df_copy[patternTag] == True]\n",
        "df_marks = pd.DataFrame()\n",
        "counter = 0\n",
        "aux = 1\n",
        "for index in new_df.index:\n",
        "    print('Count: '+str(aux)+'/'+str(allPatternCount[1]))\n",
        "\n",
        "    # Visualize the image of the found pattern\n",
        "    pattern_show_image(patternTag, df_copy.loc[index-(window_size-1):index,'open':'close'])\n",
        "\n",
        "    aux += 1\n",
        "\n",
        "    # Ask for confirmation to add it to a tagged data set\n",
        "    print(\"Add, Y o N ? or save to create .csv\")\n",
        "    resp = input()\n",
        "    if resp == 'y' or resp == 'Y':\n",
        "        df_marks = pd.concat([df_marks, df_copy.loc[index-(window_size-1):index,'open':'close'].reset_index(drop=True)], ignore_index=True)\n",
        "        counter += 1\n",
        "        print('Counter: ' + str(counter) )\n",
        "        print(df_marks)\n",
        "    if resp == 'save':\n",
        "        # Save file .csv\n",
        "        df_marks.to_csv('patterns_'+str(patternTag)+'_'+str(counter)+'_'+str(counter)+ '_' + str(currency)+'.csv', index=False)\n",
        "        print('pattens_'+str(patternTag)+'_'+str(counter)+ '_' + str(currency)+'.csv')\n"
      ]
    }
  ],
  "metadata": {
    "colab": {
      "provenance": [],
      "include_colab_link": true
    },
    "kernelspec": {
      "display_name": "Python 3",
      "name": "python3"
    },
    "language_info": {
      "name": "python"
    },
    "accelerator": "GPU"
  },
  "nbformat": 4,
  "nbformat_minor": 0
}
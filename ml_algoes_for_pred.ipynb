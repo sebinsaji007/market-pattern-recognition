{
  "nbformat": 4,
  "nbformat_minor": 0,
  "metadata": {
    "colab": {
      "provenance": [],
      "mount_file_id": "1-FnIYM8vV5NGAdmv7vyrtzJPLLxtLruc",
      "authorship_tag": "ABX9TyMjaEKawx/UCWSS0VgITcLk",
      "include_colab_link": true
    },
    "kernelspec": {
      "name": "python3",
      "display_name": "Python 3"
    },
    "language_info": {
      "name": "python"
    }
  },
  "cells": [
    {
      "cell_type": "markdown",
      "metadata": {
        "id": "view-in-github",
        "colab_type": "text"
      },
      "source": [
        "<a href=\"https://colab.research.google.com/github/sebinsaji007/market-pattern-recognition/blob/main/ml_algoes_for_pred.ipynb\" target=\"_parent\"><img src=\"https://colab.research.google.com/assets/colab-badge.svg\" alt=\"Open In Colab\"/></a>"
      ]
    },
    {
      "cell_type": "code",
      "execution_count": 2,
      "metadata": {
        "colab": {
          "base_uri": "https://localhost:8080/"
        },
        "id": "HtKjUTLSC2-P",
        "outputId": "45c140b8-72fb-4324-81d0-9db9dee58e16"
      },
      "outputs": [
        {
          "output_type": "stream",
          "name": "stdout",
          "text": [
            "/content/drive/MyDrive/python/Machine learning/price prediction\n"
          ]
        }
      ],
      "source": [
        "cd /content/drive/MyDrive/python/Machine learning/price prediction"
      ]
    },
    {
      "cell_type": "code",
      "source": [
        "import pandas as pd\n",
        "\n",
        "data = pd.read_csv('datasetofbtc.csv')\n",
        "\n",
        "\n"
      ],
      "metadata": {
        "id": "Y056jd-HDsNu"
      },
      "execution_count": 20,
      "outputs": []
    },
    {
      "cell_type": "code",
      "source": [
        "from sklearn.model_selection import train_test_split\n",
        "\n",
        "# Split the data into training and testing sets (80% training, 20% testing)\n",
        "train_data, test_data = train_test_split(data, test_size=0.2, shuffle=False)\n",
        "train_data = train_data.copy()\n",
        "test_data = test_data.copy()\n",
        "\n",
        "# Reset the index for the training and testing data\n",
        "train_data.reset_index(drop=True, inplace=True)\n",
        "test_data.reset_index(drop=True, inplace=True)\n",
        "\n",
        "# Display the size of the training and testing data\n",
        "len(train_data), len(test_data)\n"
      ],
      "metadata": {
        "colab": {
          "base_uri": "https://localhost:8080/"
        },
        "id": "s8AqNPz6AZLA",
        "outputId": "5e24cf03-fa4e-403c-cc39-0fd6372eaac8"
      },
      "execution_count": 21,
      "outputs": [
        {
          "output_type": "execute_result",
          "data": {
            "text/plain": [
              "(10705, 2677)"
            ]
          },
          "metadata": {},
          "execution_count": 21
        }
      ]
    },
    {
      "cell_type": "code",
      "source": [
        "from sklearn.linear_model import LinearRegression\n",
        "from sklearn.metrics import mean_squared_error\n",
        "\n",
        "# Extracting the features and target variable for training\n",
        "X_train = train_data[['index']]\n",
        "y_train = train_data['price']\n",
        "\n",
        "# Extracting the features and target variable for testing\n",
        "X_test = test_data[['index']]\n",
        "y_test = test_data['price']\n",
        "\n",
        "# Initialize the Linear Regression model\n",
        "linear_model = LinearRegression()\n",
        "\n",
        "# Train the model\n",
        "linear_model.fit(X_train, y_train)\n",
        "\n",
        "# Predict on the test set\n",
        "linear_predictions = linear_model.predict(X_test)\n",
        "\n",
        "# Calculate the Mean Squared Error for the Linear Regression model\n",
        "linear_mse = mean_squared_error(y_test, linear_predictions)\n",
        "\n",
        "linear_mse\n"
      ],
      "metadata": {
        "colab": {
          "base_uri": "https://localhost:8080/"
        },
        "id": "FQGI6NQaAmqL",
        "outputId": "edf899ac-1d58-4df3-966d-58cb5c4ad5b8"
      },
      "execution_count": 22,
      "outputs": [
        {
          "output_type": "execute_result",
          "data": {
            "text/plain": [
              "310420641.1371938"
            ]
          },
          "metadata": {},
          "execution_count": 22
        }
      ]
    },
    {
      "cell_type": "code",
      "source": [
        "from sklearn.tree import DecisionTreeRegressor\n",
        "\n",
        "# Initialize the Decision Tree Regressor model\n",
        "tree_model = DecisionTreeRegressor()\n",
        "\n",
        "# Train the model\n",
        "tree_model.fit(X_train, y_train)\n",
        "\n",
        "# Predict on the test set\n",
        "tree_predictions = tree_model.predict(X_test)\n",
        "\n",
        "# Calculate the Mean Squared Error for the Decision Tree Regressor model\n",
        "tree_mse = mean_squared_error(y_test, tree_predictions)\n",
        "\n",
        "tree_mse\n"
      ],
      "metadata": {
        "colab": {
          "base_uri": "https://localhost:8080/"
        },
        "id": "kuPsDs3lAujT",
        "outputId": "9f9925b2-8c7a-4d9a-85e7-30cf9a992f1b"
      },
      "execution_count": 23,
      "outputs": [
        {
          "output_type": "execute_result",
          "data": {
            "text/plain": [
              "2687384.3579839794"
            ]
          },
          "metadata": {},
          "execution_count": 23
        }
      ]
    },
    {
      "cell_type": "code",
      "source": [
        "from sklearn.ensemble import RandomForestRegressor\n",
        "\n",
        "# Initialize the Random Forest Regressor model\n",
        "forest_model = RandomForestRegressor(n_estimators=100)\n",
        "\n",
        "# Train the model\n",
        "forest_model.fit(X_train, y_train)\n",
        "\n",
        "# Predict on the test set\n",
        "forest_predictions = forest_model.predict(X_test)\n",
        "\n",
        "# Calculate the Mean Squared Error for the Random Forest Regressor model\n",
        "forest_mse = mean_squared_error(y_test, forest_predictions)\n",
        "\n",
        "forest_mse\n"
      ],
      "metadata": {
        "colab": {
          "base_uri": "https://localhost:8080/"
        },
        "id": "-41LpXaoA0EV",
        "outputId": "ffb93b38-434b-494d-b56d-9f51cfeb6aa2"
      },
      "execution_count": 24,
      "outputs": [
        {
          "output_type": "execute_result",
          "data": {
            "text/plain": [
              "2689539.5431460864"
            ]
          },
          "metadata": {},
          "execution_count": 24
        }
      ]
    },
    {
      "cell_type": "code",
      "source": [
        "from sklearn.ensemble import GradientBoostingRegressor\n",
        "\n",
        "# Initialize the Gradient Boosting Regressor model\n",
        "gradient_model = GradientBoostingRegressor(n_estimators=100)\n",
        "\n",
        "# Train the model\n",
        "gradient_model.fit(X_train, y_train)\n",
        "\n",
        "# Predict on the test set\n",
        "gradient_predictions = gradient_model.predict(X_test)\n",
        "\n",
        "# Calculate the Mean Squared Error for the Gradient Boosting Regressor model\n",
        "gradient_mse = mean_squared_error(y_test, gradient_predictions)\n",
        "\n",
        "gradient_mse\n"
      ],
      "metadata": {
        "colab": {
          "base_uri": "https://localhost:8080/"
        },
        "id": "WHOjBnFLA_Xe",
        "outputId": "a436098b-c06c-4205-9316-92a270e6f070"
      },
      "execution_count": 25,
      "outputs": [
        {
          "output_type": "execute_result",
          "data": {
            "text/plain": [
              "2782946.497581872"
            ]
          },
          "metadata": {},
          "execution_count": 25
        }
      ]
    },
    {
      "cell_type": "code",
      "source": [
        "from sklearn.neighbors import KNeighborsRegressor\n",
        "\n",
        "# Initialize the K-Nearest Neighbors Regressor model\n",
        "knn_model = KNeighborsRegressor(n_neighbors=5)\n",
        "\n",
        "# Train the model\n",
        "knn_model.fit(X_train, y_train)\n",
        "\n",
        "# Predict on the test set\n",
        "knn_predictions = knn_model.predict(X_test)\n",
        "\n",
        "# Calculate the Mean Squared Error for the K-Nearest Neighbors Regressor model\n",
        "knn_mse = mean_squared_error(y_test, knn_predictions)\n",
        "\n",
        "knn_mse\n"
      ],
      "metadata": {
        "colab": {
          "base_uri": "https://localhost:8080/"
        },
        "id": "mz1bk-EqCVDs",
        "outputId": "1adf45f9-32d0-46ce-b3e6-bc640925bbd9"
      },
      "execution_count": 31,
      "outputs": [
        {
          "output_type": "execute_result",
          "data": {
            "text/plain": [
              "2696029.634799375"
            ]
          },
          "metadata": {},
          "execution_count": 31
        }
      ]
    },
    {
      "cell_type": "code",
      "source": [
        "from sklearn.ensemble import AdaBoostRegressor\n",
        "\n",
        "# Initialize the AdaBoost Regressor model\n",
        "adaboost_model = AdaBoostRegressor(n_estimators=100)\n",
        "\n",
        "# Train the model\n",
        "adaboost_model.fit(X_train, y_train)\n",
        "\n",
        "# Predict on the test set\n",
        "adaboost_predictions = adaboost_model.predict(X_test)\n",
        "\n",
        "# Calculate the Mean Squared Error for the AdaBoost Regressor model\n",
        "adaboost_mse = mean_squared_error(y_test, adaboost_predictions)\n",
        "\n",
        "adaboost_mse\n"
      ],
      "metadata": {
        "colab": {
          "base_uri": "https://localhost:8080/"
        },
        "id": "Es-IxTwQCv0o",
        "outputId": "de6bcf74-c82c-436f-e252-2dfc8ad5ed1d"
      },
      "execution_count": 32,
      "outputs": [
        {
          "output_type": "execute_result",
          "data": {
            "text/plain": [
              "20612337.84718224"
            ]
          },
          "metadata": {},
          "execution_count": 32
        }
      ]
    },
    {
      "cell_type": "code",
      "source": [
        "from sklearn.ensemble import ExtraTreesRegressor\n",
        "\n",
        "# Initialize the Extra Trees Regressor model\n",
        "extra_trees_model = ExtraTreesRegressor(n_estimators=100)\n",
        "\n",
        "# Train the model\n",
        "extra_trees_model.fit(X_train, y_train)\n",
        "\n",
        "# Predict on the test set\n",
        "extra_trees_predictions = extra_trees_model.predict(X_test)\n",
        "\n",
        "# Calculate the Mean Squared Error for the Extra Trees Regressor model\n",
        "extra_trees_mse = mean_squared_error(y_test, extra_trees_predictions)\n",
        "\n",
        "extra_trees_mse\n"
      ],
      "metadata": {
        "colab": {
          "base_uri": "https://localhost:8080/"
        },
        "id": "Yqg1A_ZUC_df",
        "outputId": "5598a7aa-7dd1-44c5-ad4f-dd1bd9148b18"
      },
      "execution_count": 33,
      "outputs": [
        {
          "output_type": "execute_result",
          "data": {
            "text/plain": [
              "2687384.3579839794"
            ]
          },
          "metadata": {},
          "execution_count": 33
        }
      ]
    },
    {
      "cell_type": "code",
      "source": [
        "from sklearn.ensemble import BaggingRegressor\n",
        "\n",
        "# Initialize the Bagging Regressor model\n",
        "bagging_model = BaggingRegressor(n_estimators=100)\n",
        "\n",
        "# Train the model\n",
        "bagging_model.fit(X_train, y_train)\n",
        "\n",
        "# Predict on the test set\n",
        "bagging_predictions = bagging_model.predict(X_test)\n",
        "\n",
        "# Calculate the Mean Squared Error for the Bagging Regressor model\n",
        "bagging_mse = mean_squared_error(y_test, bagging_predictions)\n",
        "\n",
        "bagging_mse\n"
      ],
      "metadata": {
        "colab": {
          "base_uri": "https://localhost:8080/"
        },
        "id": "go78rOj8DAq4",
        "outputId": "0e9420b1-ab4c-48a5-92be-a4395c10919d"
      },
      "execution_count": 34,
      "outputs": [
        {
          "output_type": "execute_result",
          "data": {
            "text/plain": [
              "2689438.2509006197"
            ]
          },
          "metadata": {},
          "execution_count": 34
        }
      ]
    },
    {
      "cell_type": "code",
      "source": [
        "import xgboost as xgb\n",
        "\n",
        "# Initialize the XGBoost Regressor model\n",
        "xgb_model_quick = xgb.XGBRegressor(n_estimators=100)\n",
        "# Adjust parameters for faster training\n",
        "xgb_model_quick = xgb.XGBRegressor(n_estimators=50)\n",
        "\n",
        "# Train the model with adjusted parameters\n",
        "xgb_model_quick.fit(X_train, y_train)\n",
        "\n",
        "# Predict on the test set\n",
        "xgb_predictions_quick = xgb_model_quick.predict(X_test)\n",
        "\n",
        "# Calculate the Mean Squared Error for the XGBoost Regressor model with adjusted parameters\n",
        "xgb_mse_quick = mean_squared_error(y_test, xgb_predictions_quick)\n",
        "\n",
        "xgb_mse_quick\n"
      ],
      "metadata": {
        "colab": {
          "base_uri": "https://localhost:8080/"
        },
        "id": "J8nqVxBNDRpL",
        "outputId": "41456b1a-49bf-4092-a83c-b2f7afd94158"
      },
      "execution_count": 36,
      "outputs": [
        {
          "output_type": "execute_result",
          "data": {
            "text/plain": [
              "2810758.9490066245"
            ]
          },
          "metadata": {},
          "execution_count": 36
        }
      ]
    },
    {
      "cell_type": "code",
      "source": [
        "pip install catboost"
      ],
      "metadata": {
        "colab": {
          "base_uri": "https://localhost:8080/"
        },
        "id": "KyKS2EPHD289",
        "outputId": "7a77da90-d1b9-4f5a-dca3-3016f43769c1"
      },
      "execution_count": 39,
      "outputs": [
        {
          "output_type": "stream",
          "name": "stdout",
          "text": [
            "Successfully installed catboost-1.2.2\n"
          ]
        }
      ]
    },
    {
      "cell_type": "code",
      "source": [
        "import catboost\n",
        "\n",
        "# Initialize the CatBoost Regressor model\n",
        "catboost_model = catboost.CatBoostRegressor(iterations=500, verbose=0)\n",
        "\n",
        "# Train the model\n",
        "catboost_model.fit(X_train, y_train)\n",
        "\n",
        "# Predict on the test set\n",
        "catboost_predictions = catboost_model.predict(X_test)\n",
        "\n",
        "# Calculate the Mean Squared Error for the CatBoost Regressor model\n",
        "catboost_mse = mean_squared_error(y_test, catboost_predictions)\n",
        "\n",
        "catboost_mse\n"
      ],
      "metadata": {
        "colab": {
          "base_uri": "https://localhost:8080/"
        },
        "id": "n4ItvxSfDt_1",
        "outputId": "d897bcfc-fb9c-43c7-a1dc-45d0ca5a23c5"
      },
      "execution_count": 41,
      "outputs": [
        {
          "output_type": "execute_result",
          "data": {
            "text/plain": [
              "2808182.346066497"
            ]
          },
          "metadata": {},
          "execution_count": 41
        }
      ]
    },
    {
      "cell_type": "code",
      "source": [
        "import lightgbm as lgb\n",
        "\n",
        "# Initialize the LightGBM Regressor model\n",
        "lgb_model = lgb.LGBMRegressor(n_estimators=100)\n",
        "\n",
        "# Train the model\n",
        "lgb_model.fit(X_train, y_train)\n",
        "\n",
        "# Predict on the test set\n",
        "lgb_predictions = lgb_model.predict(X_test)\n",
        "\n",
        "# Calculate the Mean Squared Error for the LightGBM Regressor model\n",
        "lgb_mse = mean_squared_error(y_test, lgb_predictions)\n",
        "\n",
        "lgb_mse"
      ],
      "metadata": {
        "colab": {
          "base_uri": "https://localhost:8080/"
        },
        "id": "lsELh7HgDgkS",
        "outputId": "ccb13feb-9c7d-4f2c-c2b3-eaa7fbd7345a"
      },
      "execution_count": 37,
      "outputs": [
        {
          "output_type": "stream",
          "name": "stdout",
          "text": [
            "[LightGBM] [Warning] Auto-choosing col-wise multi-threading, the overhead of testing was 0.000385 seconds.\n",
            "You can set `force_col_wise=true` to remove the overhead.\n",
            "[LightGBM] [Info] Total Bins 255\n",
            "[LightGBM] [Info] Number of data points in the train set: 10705, number of used features: 1\n",
            "[LightGBM] [Info] Start training from score 27107.129692\n"
          ]
        },
        {
          "output_type": "execute_result",
          "data": {
            "text/plain": [
              "2806157.7298053354"
            ]
          },
          "metadata": {},
          "execution_count": 37
        }
      ]
    },
    {
      "cell_type": "code",
      "source": [],
      "metadata": {
        "id": "rvKZ_vI0EFV8"
      },
      "execution_count": null,
      "outputs": []
    }
  ]
}